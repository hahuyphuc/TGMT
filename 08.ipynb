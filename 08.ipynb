{
 "cells": [
  {
   "cell_type": "code",
   "execution_count": 4,
   "id": "94a90820-7749-49c4-9f84-8073a9797046",
   "metadata": {},
   "outputs": [],
   "source": [
    "import matplotlib.pyplot as plt"
   ]
  },
  {
   "cell_type": "code",
   "execution_count": 5,
   "id": "e6b7873c-b3b9-42d6-a528-643147d2104d",
   "metadata": {},
   "outputs": [
    {
     "ename": "SyntaxError",
     "evalue": "invalid syntax (3932014606.py, line 1)",
     "output_type": "error",
     "traceback": [
      "\u001b[1;36m  Cell \u001b[1;32mIn[5], line 1\u001b[1;36m\u001b[0m\n\u001b[1;33m    Vẽ biểu đồ: Line Chart\u001b[0m\n\u001b[1;37m       ^\u001b[0m\n\u001b[1;31mSyntaxError\u001b[0m\u001b[1;31m:\u001b[0m invalid syntax\n"
     ]
    }
   ],
   "source": [
    " Vẽ biểu đồ: Line Chart\n",
    "x = [1, 2, 3, 4, 5]\n",
    "y = [10, 16, 20, 30, 25]\n",
    "\n",
    "x1 = [1, 2, 3, 4, 5]\n",
    "y1 = [20, 15, 8, 9, 20]\n",
    "\n",
    "plt.plot(x, y, 'bo-', label='Dữ liệu') # Vẽ đường 1\n",
    "plt.plot(x1, y1, marker='o', color='r', linestyle='-', label='Dữ liệu-1')# Vẽ đường 2\n",
    "plt.legend() # Hiển thị chú giải\n",
    "plt.xlabel('Trục x') # Đặt nhãn cho trục x\n",
    "plt.ylabel('Trục y') # Đặt nhãn cho trục y\n",
    "plt.show() # Hiển thị biểu đồ"
   ]
  },
  {
   "cell_type": "code",
   "execution_count": null,
   "id": "1fb3e72d-3930-4296-8292-dd25b43a386d",
   "metadata": {},
   "outputs": [],
   "source": []
  }
 ],
 "metadata": {
  "kernelspec": {
   "display_name": "Python 3 (ipykernel)",
   "language": "python",
   "name": "python3"
  },
  "language_info": {
   "codemirror_mode": {
    "name": "ipython",
    "version": 3
   },
   "file_extension": ".py",
   "mimetype": "text/x-python",
   "name": "python",
   "nbconvert_exporter": "python",
   "pygments_lexer": "ipython3",
   "version": "3.12.4"
  }
 },
 "nbformat": 4,
 "nbformat_minor": 5
}
