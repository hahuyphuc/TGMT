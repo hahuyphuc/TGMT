{
 "cells": [
  {
   "cell_type": "code",
   "execution_count": null,
   "id": "99257d85-a315-4e7b-adaa-a71129fd996f",
   "metadata": {},
   "outputs": [],
   "source": [
    "# Import thư viện\n",
    "from PIL import Image\n",
    "import matplotlib.pyplot as plt\n",
    "# Đường dẫn ảnh\n",
    "my_path = 'C:/Users/huyph/Documents/TGMT/IMG/03.jpg'\n",
    "# Đọc ảnh\n",
    "im = Image.open(my_path)\n",
    "# Chuyển đổi backend\n",
    "plt.switch_backend('tkagg')\n",
    "# Hiển thị ảnh\n",
    "plt.imshow(im)\n",
    "plt.title('Click on the image to select points')\n",
    "# Sử dụng hàm ginput để chọn điểm trên ảnh\n",
    "points = plt.ginput(10)\n",
    "print(points)\n",
    "# Hiển thị\n",
    "plt.show()"
   ]
  },
  {
   "cell_type": "code",
   "execution_count": null,
   "id": "3b8ac502-a87f-45eb-9f6e-4478b2ee6a3f",
   "metadata": {},
   "outputs": [],
   "source": [
    "# Vẽ lại các điểm đã chọn bằng dấu * màu đỏ\n",
    "plt.close()\n",
    "# Vẽ lại\n",
    "plt.imshow(im)\n",
    "for point in points:\n",
    "    x, y = point\n",
    "    plt.plot(x,y, 'r*')\n",
    "plt.show()"
   ]
  },
  {
   "cell_type": "code",
   "execution_count": null,
   "id": "6726e796-f613-45bd-aabe-e43273d0560e",
   "metadata": {},
   "outputs": [],
   "source": []
  }
 ],
 "metadata": {
  "kernelspec": {
   "display_name": "Python 3 (ipykernel)",
   "language": "python",
   "name": "python3"
  },
  "language_info": {
   "codemirror_mode": {
    "name": "ipython",
    "version": 3
   },
   "file_extension": ".py",
   "mimetype": "text/x-python",
   "name": "python",
   "nbconvert_exporter": "python",
   "pygments_lexer": "ipython3",
   "version": "3.12.4"
  }
 },
 "nbformat": 4,
 "nbformat_minor": 5
}
